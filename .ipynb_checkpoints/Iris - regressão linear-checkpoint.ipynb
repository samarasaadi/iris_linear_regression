{
 "cells": [
  {
   "cell_type": "markdown",
   "id": "3feaa721",
   "metadata": {},
   "source": [
    "### Objetivo: criar um modelo de regressão linear que preveja o petal_width (y) das flores de acordo com as variáveis independentes (X)."
   ]
  },
  {
   "cell_type": "markdown",
   "id": "10d7ebb6",
   "metadata": {},
   "source": [
    "#### 1º - Importar pacotes"
   ]
  },
  {
   "cell_type": "code",
   "execution_count": 2,
   "id": "578bf2eb",
   "metadata": {},
   "outputs": [],
   "source": [
    "import pandas as pd\n",
    "import numpy as np\n",
    "import matplotlib.pyplot as plt\n",
    "import seaborn as sns\n",
    "\n",
    "\n",
    "import statsmodels.api as sm # para estimar os betas\n",
    "import scipy.stats as st #para o cálculo da correlação de pearson\n",
    "from statsmodels.stats.outliers_influence import variance_inflation_factor #para cálculo do VIF\n",
    "\n",
    "\n",
    "from sklearn.preprocessing import MinMaxScaler\n",
    "from sklearn.model_selection import train_test_split\n",
    "\n",
    "\n",
    "from sklearn.linear_model import LinearRegression\n",
    "from sklearn.neighbors import KNeighborsRegressor\n",
    "from sklearn.tree import DecisionTreeRegressor\n",
    "\n",
    "\n",
    "from sklearn.metrics import mean_absolute_error\n",
    "from sklearn.metrics import r2_score"
   ]
  },
  {
   "cell_type": "markdown",
   "id": "404b8169",
   "metadata": {},
   "source": [
    "#### 2º - Importar base de dados"
   ]
  },
  {
   "cell_type": "code",
   "execution_count": 3,
   "id": "c0700bac",
   "metadata": {},
   "outputs": [],
   "source": [
    "iris = pd.read_csv('C:/Users/samar/Desktop/iris_dataset.csv')"
   ]
  },
  {
   "cell_type": "code",
   "execution_count": 4,
   "id": "db0123a8",
   "metadata": {
    "scrolled": true
   },
   "outputs": [
    {
     "data": {
      "text/html": [
       "<div>\n",
       "<style scoped>\n",
       "    .dataframe tbody tr th:only-of-type {\n",
       "        vertical-align: middle;\n",
       "    }\n",
       "\n",
       "    .dataframe tbody tr th {\n",
       "        vertical-align: top;\n",
       "    }\n",
       "\n",
       "    .dataframe thead th {\n",
       "        text-align: right;\n",
       "    }\n",
       "</style>\n",
       "<table border=\"1\" class=\"dataframe\">\n",
       "  <thead>\n",
       "    <tr style=\"text-align: right;\">\n",
       "      <th></th>\n",
       "      <th>id</th>\n",
       "      <th>sepal_length</th>\n",
       "      <th>sepal_width</th>\n",
       "      <th>petal_length</th>\n",
       "      <th>petal_width</th>\n",
       "      <th>species</th>\n",
       "    </tr>\n",
       "  </thead>\n",
       "  <tbody>\n",
       "    <tr>\n",
       "      <th>0</th>\n",
       "      <td>1</td>\n",
       "      <td>5.138728</td>\n",
       "      <td>3.470118</td>\n",
       "      <td>1.441015</td>\n",
       "      <td>1.094873</td>\n",
       "      <td>setosa</td>\n",
       "    </tr>\n",
       "    <tr>\n",
       "      <th>1</th>\n",
       "      <td>2</td>\n",
       "      <td>4.849873</td>\n",
       "      <td>3.034931</td>\n",
       "      <td>1.414931</td>\n",
       "      <td>0.968687</td>\n",
       "      <td>setosa</td>\n",
       "    </tr>\n",
       "    <tr>\n",
       "      <th>2</th>\n",
       "      <td>3</td>\n",
       "      <td>4.715843</td>\n",
       "      <td>3.239083</td>\n",
       "      <td>1.295309</td>\n",
       "      <td>1.006643</td>\n",
       "      <td>setosa</td>\n",
       "    </tr>\n",
       "    <tr>\n",
       "      <th>3</th>\n",
       "      <td>4</td>\n",
       "      <td>4.603747</td>\n",
       "      <td>NaN</td>\n",
       "      <td>1.480616</td>\n",
       "      <td>1.002344</td>\n",
       "      <td>setosa</td>\n",
       "    </tr>\n",
       "    <tr>\n",
       "      <th>4</th>\n",
       "      <td>5</td>\n",
       "      <td>4.988744</td>\n",
       "      <td>3.645049</td>\n",
       "      <td>1.417527</td>\n",
       "      <td>1.122947</td>\n",
       "      <td>setosa</td>\n",
       "    </tr>\n",
       "    <tr>\n",
       "      <th>...</th>\n",
       "      <td>...</td>\n",
       "      <td>...</td>\n",
       "      <td>...</td>\n",
       "      <td>...</td>\n",
       "      <td>...</td>\n",
       "      <td>...</td>\n",
       "    </tr>\n",
       "    <tr>\n",
       "      <th>145</th>\n",
       "      <td>146</td>\n",
       "      <td>6.664208</td>\n",
       "      <td>2.994751</td>\n",
       "      <td>5.219754</td>\n",
       "      <td>3.061857</td>\n",
       "      <td>virginica</td>\n",
       "    </tr>\n",
       "    <tr>\n",
       "      <th>146</th>\n",
       "      <td>147</td>\n",
       "      <td>6.319889</td>\n",
       "      <td>2.453381</td>\n",
       "      <td>5.035004</td>\n",
       "      <td>2.536681</td>\n",
       "      <td>virginica</td>\n",
       "    </tr>\n",
       "    <tr>\n",
       "      <th>147</th>\n",
       "      <td>148</td>\n",
       "      <td>6.488279</td>\n",
       "      <td>2.989227</td>\n",
       "      <td>5.203232</td>\n",
       "      <td>2.749461</td>\n",
       "      <td>virginica</td>\n",
       "    </tr>\n",
       "    <tr>\n",
       "      <th>148</th>\n",
       "      <td>149</td>\n",
       "      <td>6.228777</td>\n",
       "      <td>3.371570</td>\n",
       "      <td>5.416274</td>\n",
       "      <td>3.153742</td>\n",
       "      <td>virginica</td>\n",
       "    </tr>\n",
       "    <tr>\n",
       "      <th>149</th>\n",
       "      <td>150</td>\n",
       "      <td>5.879011</td>\n",
       "      <td>3.048696</td>\n",
       "      <td>5.059241</td>\n",
       "      <td>2.535001</td>\n",
       "      <td>virginica</td>\n",
       "    </tr>\n",
       "  </tbody>\n",
       "</table>\n",
       "<p>150 rows × 6 columns</p>\n",
       "</div>"
      ],
      "text/plain": [
       "      id  sepal_length  sepal_width  petal_length  petal_width    species\n",
       "0      1      5.138728     3.470118      1.441015     1.094873     setosa\n",
       "1      2      4.849873     3.034931      1.414931     0.968687     setosa\n",
       "2      3      4.715843     3.239083      1.295309     1.006643     setosa\n",
       "3      4      4.603747          NaN      1.480616     1.002344     setosa\n",
       "4      5      4.988744     3.645049      1.417527     1.122947     setosa\n",
       "..   ...           ...          ...           ...          ...        ...\n",
       "145  146      6.664208     2.994751      5.219754     3.061857  virginica\n",
       "146  147      6.319889     2.453381      5.035004     2.536681  virginica\n",
       "147  148      6.488279     2.989227      5.203232     2.749461  virginica\n",
       "148  149      6.228777     3.371570      5.416274     3.153742  virginica\n",
       "149  150      5.879011     3.048696      5.059241     2.535001  virginica\n",
       "\n",
       "[150 rows x 6 columns]"
      ]
     },
     "execution_count": 4,
     "metadata": {},
     "output_type": "execute_result"
    }
   ],
   "source": [
    "iris"
   ]
  },
  {
   "cell_type": "markdown",
   "id": "76b6d2c2",
   "metadata": {},
   "source": [
    "#### 3º - Verificar os tipos das colunas"
   ]
  },
  {
   "cell_type": "code",
   "execution_count": 5,
   "id": "bbd1aa64",
   "metadata": {},
   "outputs": [
    {
     "name": "stdout",
     "output_type": "stream",
     "text": [
      "<class 'pandas.core.frame.DataFrame'>\n",
      "RangeIndex: 150 entries, 0 to 149\n",
      "Data columns (total 6 columns):\n",
      " #   Column        Non-Null Count  Dtype  \n",
      "---  ------        --------------  -----  \n",
      " 0   id            150 non-null    int64  \n",
      " 1   sepal_length  150 non-null    float64\n",
      " 2   sepal_width   147 non-null    float64\n",
      " 3   petal_length  150 non-null    float64\n",
      " 4   petal_width   149 non-null    float64\n",
      " 5   species       150 non-null    object \n",
      "dtypes: float64(4), int64(1), object(1)\n",
      "memory usage: 7.2+ KB\n"
     ]
    }
   ],
   "source": [
    "iris.info()"
   ]
  },
  {
   "cell_type": "markdown",
   "id": "d4037b14",
   "metadata": {},
   "source": [
    "#### 4º - Verificar a existência de NaNs"
   ]
  },
  {
   "cell_type": "code",
   "execution_count": 6,
   "id": "73ee511f",
   "metadata": {},
   "outputs": [
    {
     "data": {
      "text/plain": [
       "id              0\n",
       "sepal_length    0\n",
       "sepal_width     3\n",
       "petal_length    0\n",
       "petal_width     1\n",
       "species         0\n",
       "dtype: int64"
      ]
     },
     "execution_count": 6,
     "metadata": {},
     "output_type": "execute_result"
    }
   ],
   "source": [
    "iris.isna().sum()\n",
    "\n",
    "    # Obs.: existem valores nulos"
   ]
  },
  {
   "cell_type": "markdown",
   "id": "22f36beb",
   "metadata": {},
   "source": [
    "#### 5º - Filtrando os valores NaN"
   ]
  },
  {
   "cell_type": "code",
   "execution_count": 7,
   "id": "7284d8ff",
   "metadata": {
    "scrolled": true
   },
   "outputs": [
    {
     "data": {
      "text/html": [
       "<div>\n",
       "<style scoped>\n",
       "    .dataframe tbody tr th:only-of-type {\n",
       "        vertical-align: middle;\n",
       "    }\n",
       "\n",
       "    .dataframe tbody tr th {\n",
       "        vertical-align: top;\n",
       "    }\n",
       "\n",
       "    .dataframe thead th {\n",
       "        text-align: right;\n",
       "    }\n",
       "</style>\n",
       "<table border=\"1\" class=\"dataframe\">\n",
       "  <thead>\n",
       "    <tr style=\"text-align: right;\">\n",
       "      <th></th>\n",
       "      <th>id</th>\n",
       "      <th>sepal_length</th>\n",
       "      <th>sepal_width</th>\n",
       "      <th>petal_length</th>\n",
       "      <th>petal_width</th>\n",
       "      <th>species</th>\n",
       "    </tr>\n",
       "  </thead>\n",
       "  <tbody>\n",
       "    <tr>\n",
       "      <th>3</th>\n",
       "      <td>4</td>\n",
       "      <td>4.603747</td>\n",
       "      <td>NaN</td>\n",
       "      <td>1.480616</td>\n",
       "      <td>1.002344</td>\n",
       "      <td>setosa</td>\n",
       "    </tr>\n",
       "    <tr>\n",
       "      <th>53</th>\n",
       "      <td>54</td>\n",
       "      <td>5.442775</td>\n",
       "      <td>2.340928</td>\n",
       "      <td>4.027838</td>\n",
       "      <td>NaN</td>\n",
       "      <td>versicolor</td>\n",
       "    </tr>\n",
       "    <tr>\n",
       "      <th>61</th>\n",
       "      <td>62</td>\n",
       "      <td>5.879497</td>\n",
       "      <td>NaN</td>\n",
       "      <td>4.181942</td>\n",
       "      <td>2.259954</td>\n",
       "      <td>versicolor</td>\n",
       "    </tr>\n",
       "    <tr>\n",
       "      <th>100</th>\n",
       "      <td>101</td>\n",
       "      <td>6.230628</td>\n",
       "      <td>NaN</td>\n",
       "      <td>6.001908</td>\n",
       "      <td>3.321872</td>\n",
       "      <td>virginica</td>\n",
       "    </tr>\n",
       "  </tbody>\n",
       "</table>\n",
       "</div>"
      ],
      "text/plain": [
       "      id  sepal_length  sepal_width  petal_length  petal_width     species\n",
       "3      4      4.603747          NaN      1.480616     1.002344      setosa\n",
       "53    54      5.442775     2.340928      4.027838          NaN  versicolor\n",
       "61    62      5.879497          NaN      4.181942     2.259954  versicolor\n",
       "100  101      6.230628          NaN      6.001908     3.321872   virginica"
      ]
     },
     "execution_count": 7,
     "metadata": {},
     "output_type": "execute_result"
    }
   ],
   "source": [
    "iris[(iris['sepal_width'].isnull())|(iris['petal_width'].isnull())]"
   ]
  },
  {
   "cell_type": "markdown",
   "id": "4443e3f6",
   "metadata": {},
   "source": [
    "#### 6º - Coluna sepal_width: Fazer a mean imputation dos valores nulos, de acordo com a espécie"
   ]
  },
  {
   "cell_type": "code",
   "execution_count": 8,
   "id": "da2bdaac",
   "metadata": {
    "scrolled": true
   },
   "outputs": [
    {
     "data": {
      "text/html": [
       "<div>\n",
       "<style scoped>\n",
       "    .dataframe tbody tr th:only-of-type {\n",
       "        vertical-align: middle;\n",
       "    }\n",
       "\n",
       "    .dataframe tbody tr th {\n",
       "        vertical-align: top;\n",
       "    }\n",
       "\n",
       "    .dataframe thead th {\n",
       "        text-align: right;\n",
       "    }\n",
       "</style>\n",
       "<table border=\"1\" class=\"dataframe\">\n",
       "  <thead>\n",
       "    <tr style=\"text-align: right;\">\n",
       "      <th></th>\n",
       "      <th>id</th>\n",
       "      <th>sepal_length</th>\n",
       "      <th>sepal_width</th>\n",
       "      <th>petal_length</th>\n",
       "      <th>petal_width</th>\n",
       "      <th>species</th>\n",
       "    </tr>\n",
       "  </thead>\n",
       "  <tbody>\n",
       "  </tbody>\n",
       "</table>\n",
       "</div>"
      ],
      "text/plain": [
       "Empty DataFrame\n",
       "Columns: [id, sepal_length, sepal_width, petal_length, petal_width, species]\n",
       "Index: []"
      ]
     },
     "execution_count": 8,
     "metadata": {},
     "output_type": "execute_result"
    }
   ],
   "source": [
    "iris['sepal_width'] = iris.groupby('species')['sepal_width'].transform(lambda x: x.fillna(x.mean()))\n",
    "\n",
    "    # Verificar se os valores nulos foram preenchidos\n",
    "\n",
    "iris[iris['sepal_width'].isnull()]"
   ]
  },
  {
   "cell_type": "markdown",
   "id": "8084d9c5",
   "metadata": {},
   "source": [
    "#### 7º - Coluna petal_width: Fazer a mean imputation dos valores nulos, de acordo com a espécie"
   ]
  },
  {
   "cell_type": "code",
   "execution_count": 9,
   "id": "40ed57ae",
   "metadata": {},
   "outputs": [
    {
     "data": {
      "text/html": [
       "<div>\n",
       "<style scoped>\n",
       "    .dataframe tbody tr th:only-of-type {\n",
       "        vertical-align: middle;\n",
       "    }\n",
       "\n",
       "    .dataframe tbody tr th {\n",
       "        vertical-align: top;\n",
       "    }\n",
       "\n",
       "    .dataframe thead th {\n",
       "        text-align: right;\n",
       "    }\n",
       "</style>\n",
       "<table border=\"1\" class=\"dataframe\">\n",
       "  <thead>\n",
       "    <tr style=\"text-align: right;\">\n",
       "      <th></th>\n",
       "      <th>id</th>\n",
       "      <th>sepal_length</th>\n",
       "      <th>sepal_width</th>\n",
       "      <th>petal_length</th>\n",
       "      <th>petal_width</th>\n",
       "      <th>species</th>\n",
       "    </tr>\n",
       "  </thead>\n",
       "  <tbody>\n",
       "  </tbody>\n",
       "</table>\n",
       "</div>"
      ],
      "text/plain": [
       "Empty DataFrame\n",
       "Columns: [id, sepal_length, sepal_width, petal_length, petal_width, species]\n",
       "Index: []"
      ]
     },
     "execution_count": 9,
     "metadata": {},
     "output_type": "execute_result"
    }
   ],
   "source": [
    "iris['petal_width'] = iris.groupby('species')['petal_width'].transform(lambda x: x.fillna(x.mean()))\n",
    "\n",
    "    # Verificar se os valores nulos foram preenchidos\n",
    "\n",
    "iris[(iris['petal_width'].isnull())]"
   ]
  },
  {
   "cell_type": "markdown",
   "id": "64003c37",
   "metadata": {},
   "source": [
    "#### 8º - Verificar se o df ainda tem valores NaN"
   ]
  },
  {
   "cell_type": "code",
   "execution_count": 10,
   "id": "276c22f5",
   "metadata": {
    "scrolled": true
   },
   "outputs": [
    {
     "data": {
      "text/plain": [
       "id              0\n",
       "sepal_length    0\n",
       "sepal_width     0\n",
       "petal_length    0\n",
       "petal_width     0\n",
       "species         0\n",
       "dtype: int64"
      ]
     },
     "execution_count": 10,
     "metadata": {},
     "output_type": "execute_result"
    }
   ],
   "source": [
    "iris.isna().sum()"
   ]
  },
  {
   "cell_type": "markdown",
   "id": "ac901e32",
   "metadata": {},
   "source": [
    "#### 9º - Fazer o summary dos dados"
   ]
  },
  {
   "cell_type": "code",
   "execution_count": 11,
   "id": "d707589d",
   "metadata": {
    "scrolled": true
   },
   "outputs": [
    {
     "data": {
      "text/html": [
       "<div>\n",
       "<style scoped>\n",
       "    .dataframe tbody tr th:only-of-type {\n",
       "        vertical-align: middle;\n",
       "    }\n",
       "\n",
       "    .dataframe tbody tr th {\n",
       "        vertical-align: top;\n",
       "    }\n",
       "\n",
       "    .dataframe thead th {\n",
       "        text-align: right;\n",
       "    }\n",
       "</style>\n",
       "<table border=\"1\" class=\"dataframe\">\n",
       "  <thead>\n",
       "    <tr style=\"text-align: right;\">\n",
       "      <th></th>\n",
       "      <th>id</th>\n",
       "      <th>sepal_length</th>\n",
       "      <th>sepal_width</th>\n",
       "      <th>petal_length</th>\n",
       "      <th>petal_width</th>\n",
       "    </tr>\n",
       "  </thead>\n",
       "  <tbody>\n",
       "    <tr>\n",
       "      <th>count</th>\n",
       "      <td>150.000000</td>\n",
       "      <td>150.000000</td>\n",
       "      <td>150.000000</td>\n",
       "      <td>150.000000</td>\n",
       "      <td>150.000000</td>\n",
       "    </tr>\n",
       "    <tr>\n",
       "      <th>mean</th>\n",
       "      <td>75.500000</td>\n",
       "      <td>5.837808</td>\n",
       "      <td>3.052765</td>\n",
       "      <td>3.754958</td>\n",
       "      <td>1.962049</td>\n",
       "    </tr>\n",
       "    <tr>\n",
       "      <th>std</th>\n",
       "      <td>43.445368</td>\n",
       "      <td>0.829649</td>\n",
       "      <td>0.438753</td>\n",
       "      <td>1.764346</td>\n",
       "      <td>0.728163</td>\n",
       "    </tr>\n",
       "    <tr>\n",
       "      <th>min</th>\n",
       "      <td>1.000000</td>\n",
       "      <td>4.270281</td>\n",
       "      <td>2.025099</td>\n",
       "      <td>1.012829</td>\n",
       "      <td>0.814850</td>\n",
       "    </tr>\n",
       "    <tr>\n",
       "      <th>25%</th>\n",
       "      <td>38.250000</td>\n",
       "      <td>5.112737</td>\n",
       "      <td>2.760439</td>\n",
       "      <td>1.551973</td>\n",
       "      <td>1.195078</td>\n",
       "    </tr>\n",
       "    <tr>\n",
       "      <th>50%</th>\n",
       "      <td>75.500000</td>\n",
       "      <td>5.765678</td>\n",
       "      <td>3.009792</td>\n",
       "      <td>4.342197</td>\n",
       "      <td>2.031770</td>\n",
       "    </tr>\n",
       "    <tr>\n",
       "      <th>75%</th>\n",
       "      <td>112.750000</td>\n",
       "      <td>6.411706</td>\n",
       "      <td>3.343547</td>\n",
       "      <td>5.078362</td>\n",
       "      <td>2.562366</td>\n",
       "    </tr>\n",
       "    <tr>\n",
       "      <th>max</th>\n",
       "      <td>150.000000</td>\n",
       "      <td>7.903810</td>\n",
       "      <td>4.394665</td>\n",
       "      <td>6.892382</td>\n",
       "      <td>3.391172</td>\n",
       "    </tr>\n",
       "  </tbody>\n",
       "</table>\n",
       "</div>"
      ],
      "text/plain": [
       "               id  sepal_length  sepal_width  petal_length  petal_width\n",
       "count  150.000000    150.000000   150.000000    150.000000   150.000000\n",
       "mean    75.500000      5.837808     3.052765      3.754958     1.962049\n",
       "std     43.445368      0.829649     0.438753      1.764346     0.728163\n",
       "min      1.000000      4.270281     2.025099      1.012829     0.814850\n",
       "25%     38.250000      5.112737     2.760439      1.551973     1.195078\n",
       "50%     75.500000      5.765678     3.009792      4.342197     2.031770\n",
       "75%    112.750000      6.411706     3.343547      5.078362     2.562366\n",
       "max    150.000000      7.903810     4.394665      6.892382     3.391172"
      ]
     },
     "execution_count": 11,
     "metadata": {},
     "output_type": "execute_result"
    }
   ],
   "source": [
    "iris.describe()"
   ]
  },
  {
   "cell_type": "markdown",
   "id": "b90f1885",
   "metadata": {},
   "source": [
    "#### 10º - Remover a coluna id, pois é apenas um índice"
   ]
  },
  {
   "cell_type": "code",
   "execution_count": 12,
   "id": "4aafb2eb",
   "metadata": {
    "scrolled": true
   },
   "outputs": [
    {
     "data": {
      "text/html": [
       "<div>\n",
       "<style scoped>\n",
       "    .dataframe tbody tr th:only-of-type {\n",
       "        vertical-align: middle;\n",
       "    }\n",
       "\n",
       "    .dataframe tbody tr th {\n",
       "        vertical-align: top;\n",
       "    }\n",
       "\n",
       "    .dataframe thead th {\n",
       "        text-align: right;\n",
       "    }\n",
       "</style>\n",
       "<table border=\"1\" class=\"dataframe\">\n",
       "  <thead>\n",
       "    <tr style=\"text-align: right;\">\n",
       "      <th></th>\n",
       "      <th>sepal_length</th>\n",
       "      <th>sepal_width</th>\n",
       "      <th>petal_length</th>\n",
       "      <th>petal_width</th>\n",
       "      <th>species</th>\n",
       "    </tr>\n",
       "  </thead>\n",
       "  <tbody>\n",
       "    <tr>\n",
       "      <th>0</th>\n",
       "      <td>5.138728</td>\n",
       "      <td>3.470118</td>\n",
       "      <td>1.441015</td>\n",
       "      <td>1.094873</td>\n",
       "      <td>setosa</td>\n",
       "    </tr>\n",
       "    <tr>\n",
       "      <th>1</th>\n",
       "      <td>4.849873</td>\n",
       "      <td>3.034931</td>\n",
       "      <td>1.414931</td>\n",
       "      <td>0.968687</td>\n",
       "      <td>setosa</td>\n",
       "    </tr>\n",
       "    <tr>\n",
       "      <th>2</th>\n",
       "      <td>4.715843</td>\n",
       "      <td>3.239083</td>\n",
       "      <td>1.295309</td>\n",
       "      <td>1.006643</td>\n",
       "      <td>setosa</td>\n",
       "    </tr>\n",
       "    <tr>\n",
       "      <th>3</th>\n",
       "      <td>4.603747</td>\n",
       "      <td>3.434218</td>\n",
       "      <td>1.480616</td>\n",
       "      <td>1.002344</td>\n",
       "      <td>setosa</td>\n",
       "    </tr>\n",
       "    <tr>\n",
       "      <th>4</th>\n",
       "      <td>4.988744</td>\n",
       "      <td>3.645049</td>\n",
       "      <td>1.417527</td>\n",
       "      <td>1.122947</td>\n",
       "      <td>setosa</td>\n",
       "    </tr>\n",
       "    <tr>\n",
       "      <th>...</th>\n",
       "      <td>...</td>\n",
       "      <td>...</td>\n",
       "      <td>...</td>\n",
       "      <td>...</td>\n",
       "      <td>...</td>\n",
       "    </tr>\n",
       "    <tr>\n",
       "      <th>145</th>\n",
       "      <td>6.664208</td>\n",
       "      <td>2.994751</td>\n",
       "      <td>5.219754</td>\n",
       "      <td>3.061857</td>\n",
       "      <td>virginica</td>\n",
       "    </tr>\n",
       "    <tr>\n",
       "      <th>146</th>\n",
       "      <td>6.319889</td>\n",
       "      <td>2.453381</td>\n",
       "      <td>5.035004</td>\n",
       "      <td>2.536681</td>\n",
       "      <td>virginica</td>\n",
       "    </tr>\n",
       "    <tr>\n",
       "      <th>147</th>\n",
       "      <td>6.488279</td>\n",
       "      <td>2.989227</td>\n",
       "      <td>5.203232</td>\n",
       "      <td>2.749461</td>\n",
       "      <td>virginica</td>\n",
       "    </tr>\n",
       "    <tr>\n",
       "      <th>148</th>\n",
       "      <td>6.228777</td>\n",
       "      <td>3.371570</td>\n",
       "      <td>5.416274</td>\n",
       "      <td>3.153742</td>\n",
       "      <td>virginica</td>\n",
       "    </tr>\n",
       "    <tr>\n",
       "      <th>149</th>\n",
       "      <td>5.879011</td>\n",
       "      <td>3.048696</td>\n",
       "      <td>5.059241</td>\n",
       "      <td>2.535001</td>\n",
       "      <td>virginica</td>\n",
       "    </tr>\n",
       "  </tbody>\n",
       "</table>\n",
       "<p>150 rows × 5 columns</p>\n",
       "</div>"
      ],
      "text/plain": [
       "     sepal_length  sepal_width  petal_length  petal_width    species\n",
       "0        5.138728     3.470118      1.441015     1.094873     setosa\n",
       "1        4.849873     3.034931      1.414931     0.968687     setosa\n",
       "2        4.715843     3.239083      1.295309     1.006643     setosa\n",
       "3        4.603747     3.434218      1.480616     1.002344     setosa\n",
       "4        4.988744     3.645049      1.417527     1.122947     setosa\n",
       "..            ...          ...           ...          ...        ...\n",
       "145      6.664208     2.994751      5.219754     3.061857  virginica\n",
       "146      6.319889     2.453381      5.035004     2.536681  virginica\n",
       "147      6.488279     2.989227      5.203232     2.749461  virginica\n",
       "148      6.228777     3.371570      5.416274     3.153742  virginica\n",
       "149      5.879011     3.048696      5.059241     2.535001  virginica\n",
       "\n",
       "[150 rows x 5 columns]"
      ]
     },
     "execution_count": 12,
     "metadata": {},
     "output_type": "execute_result"
    }
   ],
   "source": [
    "iris = iris.drop(columns=['id'])\n",
    "iris"
   ]
  },
  {
   "cell_type": "markdown",
   "id": "ab74d18d",
   "metadata": {},
   "source": [
    "#### 11º - Transformar a coluna species em dummy, pois é uma categoria"
   ]
  },
  {
   "cell_type": "code",
   "execution_count": 13,
   "id": "01e803c7",
   "metadata": {
    "scrolled": true
   },
   "outputs": [
    {
     "data": {
      "text/html": [
       "<div>\n",
       "<style scoped>\n",
       "    .dataframe tbody tr th:only-of-type {\n",
       "        vertical-align: middle;\n",
       "    }\n",
       "\n",
       "    .dataframe tbody tr th {\n",
       "        vertical-align: top;\n",
       "    }\n",
       "\n",
       "    .dataframe thead th {\n",
       "        text-align: right;\n",
       "    }\n",
       "</style>\n",
       "<table border=\"1\" class=\"dataframe\">\n",
       "  <thead>\n",
       "    <tr style=\"text-align: right;\">\n",
       "      <th></th>\n",
       "      <th>sepal_length</th>\n",
       "      <th>sepal_width</th>\n",
       "      <th>petal_length</th>\n",
       "      <th>petal_width</th>\n",
       "      <th>setosa</th>\n",
       "      <th>versicolor</th>\n",
       "    </tr>\n",
       "  </thead>\n",
       "  <tbody>\n",
       "    <tr>\n",
       "      <th>0</th>\n",
       "      <td>5.138728</td>\n",
       "      <td>3.470118</td>\n",
       "      <td>1.441015</td>\n",
       "      <td>1.094873</td>\n",
       "      <td>1</td>\n",
       "      <td>0</td>\n",
       "    </tr>\n",
       "    <tr>\n",
       "      <th>1</th>\n",
       "      <td>4.849873</td>\n",
       "      <td>3.034931</td>\n",
       "      <td>1.414931</td>\n",
       "      <td>0.968687</td>\n",
       "      <td>1</td>\n",
       "      <td>0</td>\n",
       "    </tr>\n",
       "    <tr>\n",
       "      <th>2</th>\n",
       "      <td>4.715843</td>\n",
       "      <td>3.239083</td>\n",
       "      <td>1.295309</td>\n",
       "      <td>1.006643</td>\n",
       "      <td>1</td>\n",
       "      <td>0</td>\n",
       "    </tr>\n",
       "    <tr>\n",
       "      <th>3</th>\n",
       "      <td>4.603747</td>\n",
       "      <td>3.434218</td>\n",
       "      <td>1.480616</td>\n",
       "      <td>1.002344</td>\n",
       "      <td>1</td>\n",
       "      <td>0</td>\n",
       "    </tr>\n",
       "    <tr>\n",
       "      <th>4</th>\n",
       "      <td>4.988744</td>\n",
       "      <td>3.645049</td>\n",
       "      <td>1.417527</td>\n",
       "      <td>1.122947</td>\n",
       "      <td>1</td>\n",
       "      <td>0</td>\n",
       "    </tr>\n",
       "    <tr>\n",
       "      <th>...</th>\n",
       "      <td>...</td>\n",
       "      <td>...</td>\n",
       "      <td>...</td>\n",
       "      <td>...</td>\n",
       "      <td>...</td>\n",
       "      <td>...</td>\n",
       "    </tr>\n",
       "    <tr>\n",
       "      <th>145</th>\n",
       "      <td>6.664208</td>\n",
       "      <td>2.994751</td>\n",
       "      <td>5.219754</td>\n",
       "      <td>3.061857</td>\n",
       "      <td>0</td>\n",
       "      <td>0</td>\n",
       "    </tr>\n",
       "    <tr>\n",
       "      <th>146</th>\n",
       "      <td>6.319889</td>\n",
       "      <td>2.453381</td>\n",
       "      <td>5.035004</td>\n",
       "      <td>2.536681</td>\n",
       "      <td>0</td>\n",
       "      <td>0</td>\n",
       "    </tr>\n",
       "    <tr>\n",
       "      <th>147</th>\n",
       "      <td>6.488279</td>\n",
       "      <td>2.989227</td>\n",
       "      <td>5.203232</td>\n",
       "      <td>2.749461</td>\n",
       "      <td>0</td>\n",
       "      <td>0</td>\n",
       "    </tr>\n",
       "    <tr>\n",
       "      <th>148</th>\n",
       "      <td>6.228777</td>\n",
       "      <td>3.371570</td>\n",
       "      <td>5.416274</td>\n",
       "      <td>3.153742</td>\n",
       "      <td>0</td>\n",
       "      <td>0</td>\n",
       "    </tr>\n",
       "    <tr>\n",
       "      <th>149</th>\n",
       "      <td>5.879011</td>\n",
       "      <td>3.048696</td>\n",
       "      <td>5.059241</td>\n",
       "      <td>2.535001</td>\n",
       "      <td>0</td>\n",
       "      <td>0</td>\n",
       "    </tr>\n",
       "  </tbody>\n",
       "</table>\n",
       "<p>150 rows × 6 columns</p>\n",
       "</div>"
      ],
      "text/plain": [
       "     sepal_length  sepal_width  petal_length  petal_width  setosa  versicolor\n",
       "0        5.138728     3.470118      1.441015     1.094873       1           0\n",
       "1        4.849873     3.034931      1.414931     0.968687       1           0\n",
       "2        4.715843     3.239083      1.295309     1.006643       1           0\n",
       "3        4.603747     3.434218      1.480616     1.002344       1           0\n",
       "4        4.988744     3.645049      1.417527     1.122947       1           0\n",
       "..            ...          ...           ...          ...     ...         ...\n",
       "145      6.664208     2.994751      5.219754     3.061857       0           0\n",
       "146      6.319889     2.453381      5.035004     2.536681       0           0\n",
       "147      6.488279     2.989227      5.203232     2.749461       0           0\n",
       "148      6.228777     3.371570      5.416274     3.153742       0           0\n",
       "149      5.879011     3.048696      5.059241     2.535001       0           0\n",
       "\n",
       "[150 rows x 6 columns]"
      ]
     },
     "execution_count": 13,
     "metadata": {},
     "output_type": "execute_result"
    }
   ],
   "source": [
    "    # Fazer os dummies\n",
    "\n",
    "species_one_hot = pd.get_dummies(iris.species)\n",
    "\n",
    "    # Colocar as colunas dummies no data frame\n",
    "    \n",
    "iris = iris.join(species_one_hot)\n",
    "\n",
    "    # Remover a coluna virginica, pois não traz informações adicionais\n",
    "\n",
    "iris = iris.drop('virginica', axis = 1)\n",
    "\n",
    "    # Remover a coluna original species\n",
    "    \n",
    "iris = iris.drop('species', axis =1)\n",
    "iris"
   ]
  },
  {
   "cell_type": "markdown",
   "id": "c0a506a1",
   "metadata": {},
   "source": [
    "#### 12º - Definir as variáveis"
   ]
  },
  {
   "cell_type": "code",
   "execution_count": 14,
   "id": "f36bfa52",
   "metadata": {},
   "outputs": [],
   "source": [
    "y = iris['petal_width'] #yi, valores observados da variável dependentes Y\n",
    "X = iris[['petal_length','sepal_length', 'sepal_width',\n",
    "          'setosa', 'versicolor']] #xi, valores observados das variáveis independentes X"
   ]
  },
  {
   "cell_type": "markdown",
   "id": "c518ba1f",
   "metadata": {},
   "source": [
    "#### 13º - Fazer a reescala de X, através de Min Max"
   ]
  },
  {
   "cell_type": "code",
   "execution_count": 15,
   "id": "5d5e774d",
   "metadata": {
    "scrolled": true
   },
   "outputs": [
    {
     "data": {
      "text/html": [
       "<div>\n",
       "<style scoped>\n",
       "    .dataframe tbody tr th:only-of-type {\n",
       "        vertical-align: middle;\n",
       "    }\n",
       "\n",
       "    .dataframe tbody tr th {\n",
       "        vertical-align: top;\n",
       "    }\n",
       "\n",
       "    .dataframe thead th {\n",
       "        text-align: right;\n",
       "    }\n",
       "</style>\n",
       "<table border=\"1\" class=\"dataframe\">\n",
       "  <thead>\n",
       "    <tr style=\"text-align: right;\">\n",
       "      <th></th>\n",
       "      <th>petal_length</th>\n",
       "      <th>sepal_length</th>\n",
       "      <th>sepal_width</th>\n",
       "      <th>setosa</th>\n",
       "      <th>versicolor</th>\n",
       "    </tr>\n",
       "  </thead>\n",
       "  <tbody>\n",
       "    <tr>\n",
       "      <th>count</th>\n",
       "      <td>150.000000</td>\n",
       "      <td>150.000000</td>\n",
       "      <td>150.000000</td>\n",
       "      <td>150.000000</td>\n",
       "      <td>150.000000</td>\n",
       "    </tr>\n",
       "    <tr>\n",
       "      <th>mean</th>\n",
       "      <td>0.466384</td>\n",
       "      <td>0.431406</td>\n",
       "      <td>0.433694</td>\n",
       "      <td>0.333333</td>\n",
       "      <td>0.333333</td>\n",
       "    </tr>\n",
       "    <tr>\n",
       "      <th>std</th>\n",
       "      <td>0.300082</td>\n",
       "      <td>0.228332</td>\n",
       "      <td>0.185162</td>\n",
       "      <td>0.472984</td>\n",
       "      <td>0.472984</td>\n",
       "    </tr>\n",
       "    <tr>\n",
       "      <th>min</th>\n",
       "      <td>0.000000</td>\n",
       "      <td>0.000000</td>\n",
       "      <td>0.000000</td>\n",
       "      <td>0.000000</td>\n",
       "      <td>0.000000</td>\n",
       "    </tr>\n",
       "    <tr>\n",
       "      <th>25%</th>\n",
       "      <td>0.091698</td>\n",
       "      <td>0.231856</td>\n",
       "      <td>0.310327</td>\n",
       "      <td>0.000000</td>\n",
       "      <td>0.000000</td>\n",
       "    </tr>\n",
       "    <tr>\n",
       "      <th>50%</th>\n",
       "      <td>0.566262</td>\n",
       "      <td>0.411555</td>\n",
       "      <td>0.415558</td>\n",
       "      <td>0.000000</td>\n",
       "      <td>0.000000</td>\n",
       "    </tr>\n",
       "    <tr>\n",
       "      <th>75%</th>\n",
       "      <td>0.691470</td>\n",
       "      <td>0.589351</td>\n",
       "      <td>0.556409</td>\n",
       "      <td>1.000000</td>\n",
       "      <td>1.000000</td>\n",
       "    </tr>\n",
       "    <tr>\n",
       "      <th>max</th>\n",
       "      <td>1.000000</td>\n",
       "      <td>1.000000</td>\n",
       "      <td>1.000000</td>\n",
       "      <td>1.000000</td>\n",
       "      <td>1.000000</td>\n",
       "    </tr>\n",
       "  </tbody>\n",
       "</table>\n",
       "</div>"
      ],
      "text/plain": [
       "       petal_length  sepal_length  sepal_width      setosa  versicolor\n",
       "count    150.000000    150.000000   150.000000  150.000000  150.000000\n",
       "mean       0.466384      0.431406     0.433694    0.333333    0.333333\n",
       "std        0.300082      0.228332     0.185162    0.472984    0.472984\n",
       "min        0.000000      0.000000     0.000000    0.000000    0.000000\n",
       "25%        0.091698      0.231856     0.310327    0.000000    0.000000\n",
       "50%        0.566262      0.411555     0.415558    0.000000    0.000000\n",
       "75%        0.691470      0.589351     0.556409    1.000000    1.000000\n",
       "max        1.000000      1.000000     1.000000    1.000000    1.000000"
      ]
     },
     "execution_count": 15,
     "metadata": {},
     "output_type": "execute_result"
    }
   ],
   "source": [
    "    # Refazer a escala (de 0 a 1)\n",
    "    \n",
    "scaler = MinMaxScaler(feature_range = (0,1))\n",
    "\n",
    "    # Transformar o X de acordo com a nova escala\n",
    "    \n",
    "rescaledX = scaler.fit_transform(X)\n",
    "\n",
    "    # Atribuir os novos valores de X como dataframe ao X\n",
    "        \n",
    "X = pd.DataFrame(rescaledX, columns = X.columns)\n",
    "\n",
    "    # Data frame X reescalado\n",
    "\n",
    "X.describe()"
   ]
  },
  {
   "cell_type": "markdown",
   "id": "ad938878",
   "metadata": {},
   "source": [
    "#### 14º - Adicionar a constante (beta 0) ao data frame"
   ]
  },
  {
   "cell_type": "code",
   "execution_count": 16,
   "id": "1e130b69",
   "metadata": {
    "scrolled": true
   },
   "outputs": [
    {
     "data": {
      "text/html": [
       "<div>\n",
       "<style scoped>\n",
       "    .dataframe tbody tr th:only-of-type {\n",
       "        vertical-align: middle;\n",
       "    }\n",
       "\n",
       "    .dataframe tbody tr th {\n",
       "        vertical-align: top;\n",
       "    }\n",
       "\n",
       "    .dataframe thead th {\n",
       "        text-align: right;\n",
       "    }\n",
       "</style>\n",
       "<table border=\"1\" class=\"dataframe\">\n",
       "  <thead>\n",
       "    <tr style=\"text-align: right;\">\n",
       "      <th></th>\n",
       "      <th>const</th>\n",
       "      <th>petal_length</th>\n",
       "      <th>sepal_length</th>\n",
       "      <th>sepal_width</th>\n",
       "      <th>setosa</th>\n",
       "      <th>versicolor</th>\n",
       "    </tr>\n",
       "  </thead>\n",
       "  <tbody>\n",
       "    <tr>\n",
       "      <th>0</th>\n",
       "      <td>1.0</td>\n",
       "      <td>0.072826</td>\n",
       "      <td>0.239009</td>\n",
       "      <td>0.609824</td>\n",
       "      <td>1.0</td>\n",
       "      <td>0.0</td>\n",
       "    </tr>\n",
       "    <tr>\n",
       "      <th>1</th>\n",
       "      <td>1.0</td>\n",
       "      <td>0.068390</td>\n",
       "      <td>0.159512</td>\n",
       "      <td>0.426167</td>\n",
       "      <td>1.0</td>\n",
       "      <td>0.0</td>\n",
       "    </tr>\n",
       "    <tr>\n",
       "      <th>2</th>\n",
       "      <td>1.0</td>\n",
       "      <td>0.048044</td>\n",
       "      <td>0.122625</td>\n",
       "      <td>0.512323</td>\n",
       "      <td>1.0</td>\n",
       "      <td>0.0</td>\n",
       "    </tr>\n",
       "    <tr>\n",
       "      <th>3</th>\n",
       "      <td>1.0</td>\n",
       "      <td>0.079562</td>\n",
       "      <td>0.091775</td>\n",
       "      <td>0.594674</td>\n",
       "      <td>1.0</td>\n",
       "      <td>0.0</td>\n",
       "    </tr>\n",
       "    <tr>\n",
       "      <th>4</th>\n",
       "      <td>1.0</td>\n",
       "      <td>0.068831</td>\n",
       "      <td>0.197731</td>\n",
       "      <td>0.683649</td>\n",
       "      <td>1.0</td>\n",
       "      <td>0.0</td>\n",
       "    </tr>\n",
       "    <tr>\n",
       "      <th>...</th>\n",
       "      <td>...</td>\n",
       "      <td>...</td>\n",
       "      <td>...</td>\n",
       "      <td>...</td>\n",
       "      <td>...</td>\n",
       "      <td>...</td>\n",
       "    </tr>\n",
       "    <tr>\n",
       "      <th>145</th>\n",
       "      <td>1.0</td>\n",
       "      <td>0.715518</td>\n",
       "      <td>0.658844</td>\n",
       "      <td>0.409211</td>\n",
       "      <td>0.0</td>\n",
       "      <td>0.0</td>\n",
       "    </tr>\n",
       "    <tr>\n",
       "      <th>146</th>\n",
       "      <td>1.0</td>\n",
       "      <td>0.684095</td>\n",
       "      <td>0.564082</td>\n",
       "      <td>0.180743</td>\n",
       "      <td>0.0</td>\n",
       "      <td>0.0</td>\n",
       "    </tr>\n",
       "    <tr>\n",
       "      <th>147</th>\n",
       "      <td>1.0</td>\n",
       "      <td>0.712708</td>\n",
       "      <td>0.610425</td>\n",
       "      <td>0.406879</td>\n",
       "      <td>0.0</td>\n",
       "      <td>0.0</td>\n",
       "    </tr>\n",
       "    <tr>\n",
       "      <th>148</th>\n",
       "      <td>1.0</td>\n",
       "      <td>0.748942</td>\n",
       "      <td>0.539007</td>\n",
       "      <td>0.568235</td>\n",
       "      <td>0.0</td>\n",
       "      <td>0.0</td>\n",
       "    </tr>\n",
       "    <tr>\n",
       "      <th>149</th>\n",
       "      <td>1.0</td>\n",
       "      <td>0.688218</td>\n",
       "      <td>0.442746</td>\n",
       "      <td>0.431977</td>\n",
       "      <td>0.0</td>\n",
       "      <td>0.0</td>\n",
       "    </tr>\n",
       "  </tbody>\n",
       "</table>\n",
       "<p>150 rows × 6 columns</p>\n",
       "</div>"
      ],
      "text/plain": [
       "     const  petal_length  sepal_length  sepal_width  setosa  versicolor\n",
       "0      1.0      0.072826      0.239009     0.609824     1.0         0.0\n",
       "1      1.0      0.068390      0.159512     0.426167     1.0         0.0\n",
       "2      1.0      0.048044      0.122625     0.512323     1.0         0.0\n",
       "3      1.0      0.079562      0.091775     0.594674     1.0         0.0\n",
       "4      1.0      0.068831      0.197731     0.683649     1.0         0.0\n",
       "..     ...           ...           ...          ...     ...         ...\n",
       "145    1.0      0.715518      0.658844     0.409211     0.0         0.0\n",
       "146    1.0      0.684095      0.564082     0.180743     0.0         0.0\n",
       "147    1.0      0.712708      0.610425     0.406879     0.0         0.0\n",
       "148    1.0      0.748942      0.539007     0.568235     0.0         0.0\n",
       "149    1.0      0.688218      0.442746     0.431977     0.0         0.0\n",
       "\n",
       "[150 rows x 6 columns]"
      ]
     },
     "execution_count": 16,
     "metadata": {},
     "output_type": "execute_result"
    }
   ],
   "source": [
    "X = sm.add_constant(X)\n",
    "X"
   ]
  },
  {
   "cell_type": "markdown",
   "id": "c20091c9",
   "metadata": {},
   "source": [
    "#### 15º - Fazer o MQO"
   ]
  },
  {
   "cell_type": "code",
   "execution_count": 17,
   "id": "75acba88",
   "metadata": {},
   "outputs": [],
   "source": [
    "model = sm.OLS(y,X)\n",
    "results = model.fit() "
   ]
  },
  {
   "cell_type": "markdown",
   "id": "9f1465e7",
   "metadata": {},
   "source": [
    "#### 16º - Teste de hipóteses para verificar se as variáveis são significativas"
   ]
  },
  {
   "cell_type": "code",
   "execution_count": 18,
   "id": "763490c4",
   "metadata": {},
   "outputs": [
    {
     "data": {
      "text/html": [
       "<table class=\"simpletable\">\n",
       "<caption>OLS Regression Results</caption>\n",
       "<tr>\n",
       "  <th>Dep. Variable:</th>       <td>petal_width</td>   <th>  R-squared:         </th> <td>   0.946</td>\n",
       "</tr>\n",
       "<tr>\n",
       "  <th>Model:</th>                   <td>OLS</td>       <th>  Adj. R-squared:    </th> <td>   0.944</td>\n",
       "</tr>\n",
       "<tr>\n",
       "  <th>Method:</th>             <td>Least Squares</td>  <th>  F-statistic:       </th> <td>   505.5</td>\n",
       "</tr>\n",
       "<tr>\n",
       "  <th>Date:</th>             <td>Thu, 23 Mar 2023</td> <th>  Prob (F-statistic):</th> <td>2.06e-89</td>\n",
       "</tr>\n",
       "<tr>\n",
       "  <th>Time:</th>                 <td>20:50:12</td>     <th>  Log-Likelihood:    </th> <td>  54.289</td>\n",
       "</tr>\n",
       "<tr>\n",
       "  <th>No. Observations:</th>      <td>   150</td>      <th>  AIC:               </th> <td>  -96.58</td>\n",
       "</tr>\n",
       "<tr>\n",
       "  <th>Df Residuals:</th>          <td>   144</td>      <th>  BIC:               </th> <td>  -78.51</td>\n",
       "</tr>\n",
       "<tr>\n",
       "  <th>Df Model:</th>              <td>     5</td>      <th>                     </th>     <td> </td>   \n",
       "</tr>\n",
       "<tr>\n",
       "  <th>Covariance Type:</th>      <td>nonrobust</td>    <th>                     </th>     <td> </td>   \n",
       "</tr>\n",
       "</table>\n",
       "<table class=\"simpletable\">\n",
       "<tr>\n",
       "        <td></td>          <th>coef</th>     <th>std err</th>      <th>t</th>      <th>P>|t|</th>  <th>[0.025</th>    <th>0.975]</th>  \n",
       "</tr>\n",
       "<tr>\n",
       "  <th>const</th>        <td>    1.4035</td> <td>    0.169</td> <td>    8.305</td> <td> 0.000</td> <td>    1.070</td> <td>    1.738</td>\n",
       "</tr>\n",
       "<tr>\n",
       "  <th>petal_length</th> <td>    1.4554</td> <td>    0.295</td> <td>    4.935</td> <td> 0.000</td> <td>    0.872</td> <td>    2.038</td>\n",
       "</tr>\n",
       "<tr>\n",
       "  <th>sepal_length</th> <td>   -0.3254</td> <td>    0.166</td> <td>   -1.957</td> <td> 0.052</td> <td>   -0.654</td> <td>    0.003</td>\n",
       "</tr>\n",
       "<tr>\n",
       "  <th>sepal_width</th>  <td>    1.1269</td> <td>    0.118</td> <td>    9.558</td> <td> 0.000</td> <td>    0.894</td> <td>    1.360</td>\n",
       "</tr>\n",
       "<tr>\n",
       "  <th>setosa</th>       <td>   -1.0162</td> <td>    0.170</td> <td>   -5.968</td> <td> 0.000</td> <td>   -1.353</td> <td>   -0.680</td>\n",
       "</tr>\n",
       "<tr>\n",
       "  <th>versicolor</th>   <td>   -0.3897</td> <td>    0.059</td> <td>   -6.644</td> <td> 0.000</td> <td>   -0.506</td> <td>   -0.274</td>\n",
       "</tr>\n",
       "</table>\n",
       "<table class=\"simpletable\">\n",
       "<tr>\n",
       "  <th>Omnibus:</th>       <td> 5.434</td> <th>  Durbin-Watson:     </th> <td>   1.855</td>\n",
       "</tr>\n",
       "<tr>\n",
       "  <th>Prob(Omnibus):</th> <td> 0.066</td> <th>  Jarque-Bera (JB):  </th> <td>   7.525</td>\n",
       "</tr>\n",
       "<tr>\n",
       "  <th>Skew:</th>          <td>-0.127</td> <th>  Prob(JB):          </th> <td>  0.0232</td>\n",
       "</tr>\n",
       "<tr>\n",
       "  <th>Kurtosis:</th>      <td> 4.067</td> <th>  Cond. No.          </th> <td>    37.4</td>\n",
       "</tr>\n",
       "</table><br/><br/>Notes:<br/>[1] Standard Errors assume that the covariance matrix of the errors is correctly specified."
      ],
      "text/plain": [
       "<class 'statsmodels.iolib.summary.Summary'>\n",
       "\"\"\"\n",
       "                            OLS Regression Results                            \n",
       "==============================================================================\n",
       "Dep. Variable:            petal_width   R-squared:                       0.946\n",
       "Model:                            OLS   Adj. R-squared:                  0.944\n",
       "Method:                 Least Squares   F-statistic:                     505.5\n",
       "Date:                Thu, 23 Mar 2023   Prob (F-statistic):           2.06e-89\n",
       "Time:                        20:50:12   Log-Likelihood:                 54.289\n",
       "No. Observations:                 150   AIC:                            -96.58\n",
       "Df Residuals:                     144   BIC:                            -78.51\n",
       "Df Model:                           5                                         \n",
       "Covariance Type:            nonrobust                                         \n",
       "================================================================================\n",
       "                   coef    std err          t      P>|t|      [0.025      0.975]\n",
       "--------------------------------------------------------------------------------\n",
       "const            1.4035      0.169      8.305      0.000       1.070       1.738\n",
       "petal_length     1.4554      0.295      4.935      0.000       0.872       2.038\n",
       "sepal_length    -0.3254      0.166     -1.957      0.052      -0.654       0.003\n",
       "sepal_width      1.1269      0.118      9.558      0.000       0.894       1.360\n",
       "setosa          -1.0162      0.170     -5.968      0.000      -1.353      -0.680\n",
       "versicolor      -0.3897      0.059     -6.644      0.000      -0.506      -0.274\n",
       "==============================================================================\n",
       "Omnibus:                        5.434   Durbin-Watson:                   1.855\n",
       "Prob(Omnibus):                  0.066   Jarque-Bera (JB):                7.525\n",
       "Skew:                          -0.127   Prob(JB):                       0.0232\n",
       "Kurtosis:                       4.067   Cond. No.                         37.4\n",
       "==============================================================================\n",
       "\n",
       "Notes:\n",
       "[1] Standard Errors assume that the covariance matrix of the errors is correctly specified.\n",
       "\"\"\""
      ]
     },
     "execution_count": 18,
     "metadata": {},
     "output_type": "execute_result"
    }
   ],
   "source": [
    "results.summary() # resumo do MQO\n",
    "\n",
    "    # H0: Beta j = 0 => o parâmetro beta é igual a 0 estatisticamente, ou seja, não é significativo\n",
    "    # H1: Beta j ≠ 0 => o parâmetro beta não é igual a 0 estatisticamente, ou seja, é significativo\n",
    "    \n",
    "    # Conclusão do teste de hipóteses:\n",
    "        # Quando o p-valor é maior do que alfa (5%), a hipótese nula não é rejeitada. Logo, sepal_length não é significativa e pode ser retirada do modelo"
   ]
  },
  {
   "cell_type": "markdown",
   "id": "c1203e34",
   "metadata": {},
   "source": [
    "#### 17º - Fazer a matriz de correlação das variáveis"
   ]
  },
  {
   "cell_type": "code",
   "execution_count": 19,
   "id": "72b44606",
   "metadata": {},
   "outputs": [
    {
     "data": {
      "text/plain": [
       "<AxesSubplot:>"
      ]
     },
     "execution_count": 19,
     "metadata": {},
     "output_type": "execute_result"
    },
    {
     "data": {
      "image/png": "[encoded data removed]",
      "text/plain": [
       "<Figure size 300x300 with 2 Axes>"
      ]
     },
     "metadata": {},
     "output_type": "display_data"
    }
   ],
   "source": [
    "    # Fazer a correlação\n",
    "    \n",
    "correl_matrix = iris.corr()\n",
    "\n",
    "    # Criar a figura. Obs.: não é necessário, mas fiz pq queria a figura maior\n",
    "    \n",
    "plt.figure(figsize=(3,3))\n",
    "    \n",
    "    # Criar o heatmap.\n",
    "        # Obs.: annot = informação na célula, fmt = formato do nº, cmap = paleta de cores\n",
    "        \n",
    "sns.heatmap(correl_matrix, annot = True, fmt=\".1f\", cmap = 'bwr')\n",
    "\n",
    "    # Conclusão => tem correlações fortes positivas e negativas"
   ]
  },
  {
   "cell_type": "markdown",
   "id": "59d19955",
   "metadata": {},
   "source": [
    "#### 18º - Fazer o VIF das variáveis explicativas"
   ]
  },
  {
   "cell_type": "code",
   "execution_count": 20,
   "id": "f560fcc3",
   "metadata": {},
   "outputs": [
    {
     "data": {
      "text/html": [
       "<div>\n",
       "<style scoped>\n",
       "    .dataframe tbody tr th:only-of-type {\n",
       "        vertical-align: middle;\n",
       "    }\n",
       "\n",
       "    .dataframe tbody tr th {\n",
       "        vertical-align: top;\n",
       "    }\n",
       "\n",
       "    .dataframe thead th {\n",
       "        text-align: right;\n",
       "    }\n",
       "</style>\n",
       "<table border=\"1\" class=\"dataframe\">\n",
       "  <thead>\n",
       "    <tr style=\"text-align: right;\">\n",
       "      <th></th>\n",
       "      <th>VIF</th>\n",
       "      <th>variable</th>\n",
       "    </tr>\n",
       "  </thead>\n",
       "  <tbody>\n",
       "    <tr>\n",
       "      <th>0</th>\n",
       "      <td>144.850455</td>\n",
       "      <td>const</td>\n",
       "    </tr>\n",
       "    <tr>\n",
       "      <th>1</th>\n",
       "      <td>39.463740</td>\n",
       "      <td>petal_length</td>\n",
       "    </tr>\n",
       "    <tr>\n",
       "      <th>2</th>\n",
       "      <td>7.260945</td>\n",
       "      <td>sepal_length</td>\n",
       "    </tr>\n",
       "    <tr>\n",
       "      <th>3</th>\n",
       "      <td>2.401291</td>\n",
       "      <td>sepal_width</td>\n",
       "    </tr>\n",
       "    <tr>\n",
       "      <th>4</th>\n",
       "      <td>32.676793</td>\n",
       "      <td>setosa</td>\n",
       "    </tr>\n",
       "    <tr>\n",
       "      <th>5</th>\n",
       "      <td>3.877076</td>\n",
       "      <td>versicolor</td>\n",
       "    </tr>\n",
       "  </tbody>\n",
       "</table>\n",
       "</div>"
      ],
      "text/plain": [
       "          VIF      variable\n",
       "0  144.850455         const\n",
       "1   39.463740  petal_length\n",
       "2    7.260945  sepal_length\n",
       "3    2.401291   sepal_width\n",
       "4   32.676793        setosa\n",
       "5    3.877076    versicolor"
      ]
     },
     "execution_count": 20,
     "metadata": {},
     "output_type": "execute_result"
    }
   ],
   "source": [
    "vif = pd.DataFrame()\n",
    "vif['VIF'] = [variance_inflation_factor(X.values, i) for i in range(X.shape[1])]\n",
    "vif['variable'] = X.columns\n",
    "vif\n",
    "\n",
    "    # Conclusão:\n",
    "        # Petal_length e Setosa devem ser removidas pois o VIF é maior do que 10, o que significa que a multicolinearidade é significativamente forte.\n",
    "        # Petal_length será removido primeiro. E será verificado se a multicolinearidade do modelo diminuiu."
   ]
  },
  {
   "cell_type": "markdown",
   "id": "9094037f",
   "metadata": {},
   "source": [
    "#### 19º - Remover as variáveis abaixo:"
   ]
  },
  {
   "cell_type": "code",
   "execution_count": 21,
   "id": "b6ace646",
   "metadata": {},
   "outputs": [
    {
     "data": {
      "text/html": [
       "<div>\n",
       "<style scoped>\n",
       "    .dataframe tbody tr th:only-of-type {\n",
       "        vertical-align: middle;\n",
       "    }\n",
       "\n",
       "    .dataframe tbody tr th {\n",
       "        vertical-align: top;\n",
       "    }\n",
       "\n",
       "    .dataframe thead th {\n",
       "        text-align: right;\n",
       "    }\n",
       "</style>\n",
       "<table border=\"1\" class=\"dataframe\">\n",
       "  <thead>\n",
       "    <tr style=\"text-align: right;\">\n",
       "      <th></th>\n",
       "      <th>const</th>\n",
       "      <th>sepal_width</th>\n",
       "      <th>setosa</th>\n",
       "      <th>versicolor</th>\n",
       "    </tr>\n",
       "  </thead>\n",
       "  <tbody>\n",
       "    <tr>\n",
       "      <th>0</th>\n",
       "      <td>1.0</td>\n",
       "      <td>0.609824</td>\n",
       "      <td>1.0</td>\n",
       "      <td>0.0</td>\n",
       "    </tr>\n",
       "    <tr>\n",
       "      <th>1</th>\n",
       "      <td>1.0</td>\n",
       "      <td>0.426167</td>\n",
       "      <td>1.0</td>\n",
       "      <td>0.0</td>\n",
       "    </tr>\n",
       "    <tr>\n",
       "      <th>2</th>\n",
       "      <td>1.0</td>\n",
       "      <td>0.512323</td>\n",
       "      <td>1.0</td>\n",
       "      <td>0.0</td>\n",
       "    </tr>\n",
       "    <tr>\n",
       "      <th>3</th>\n",
       "      <td>1.0</td>\n",
       "      <td>0.594674</td>\n",
       "      <td>1.0</td>\n",
       "      <td>0.0</td>\n",
       "    </tr>\n",
       "    <tr>\n",
       "      <th>4</th>\n",
       "      <td>1.0</td>\n",
       "      <td>0.683649</td>\n",
       "      <td>1.0</td>\n",
       "      <td>0.0</td>\n",
       "    </tr>\n",
       "    <tr>\n",
       "      <th>...</th>\n",
       "      <td>...</td>\n",
       "      <td>...</td>\n",
       "      <td>...</td>\n",
       "      <td>...</td>\n",
       "    </tr>\n",
       "    <tr>\n",
       "      <th>145</th>\n",
       "      <td>1.0</td>\n",
       "      <td>0.409211</td>\n",
       "      <td>0.0</td>\n",
       "      <td>0.0</td>\n",
       "    </tr>\n",
       "    <tr>\n",
       "      <th>146</th>\n",
       "      <td>1.0</td>\n",
       "      <td>0.180743</td>\n",
       "      <td>0.0</td>\n",
       "      <td>0.0</td>\n",
       "    </tr>\n",
       "    <tr>\n",
       "      <th>147</th>\n",
       "      <td>1.0</td>\n",
       "      <td>0.406879</td>\n",
       "      <td>0.0</td>\n",
       "      <td>0.0</td>\n",
       "    </tr>\n",
       "    <tr>\n",
       "      <th>148</th>\n",
       "      <td>1.0</td>\n",
       "      <td>0.568235</td>\n",
       "      <td>0.0</td>\n",
       "      <td>0.0</td>\n",
       "    </tr>\n",
       "    <tr>\n",
       "      <th>149</th>\n",
       "      <td>1.0</td>\n",
       "      <td>0.431977</td>\n",
       "      <td>0.0</td>\n",
       "      <td>0.0</td>\n",
       "    </tr>\n",
       "  </tbody>\n",
       "</table>\n",
       "<p>150 rows × 4 columns</p>\n",
       "</div>"
      ],
      "text/plain": [
       "     const  sepal_width  setosa  versicolor\n",
       "0      1.0     0.609824     1.0         0.0\n",
       "1      1.0     0.426167     1.0         0.0\n",
       "2      1.0     0.512323     1.0         0.0\n",
       "3      1.0     0.594674     1.0         0.0\n",
       "4      1.0     0.683649     1.0         0.0\n",
       "..     ...          ...     ...         ...\n",
       "145    1.0     0.409211     0.0         0.0\n",
       "146    1.0     0.180743     0.0         0.0\n",
       "147    1.0     0.406879     0.0         0.0\n",
       "148    1.0     0.568235     0.0         0.0\n",
       "149    1.0     0.431977     0.0         0.0\n",
       "\n",
       "[150 rows x 4 columns]"
      ]
     },
     "execution_count": 21,
     "metadata": {},
     "output_type": "execute_result"
    }
   ],
   "source": [
    "    # sepal_length, pois não é significativa\n",
    "    # setosa, pois possui multicolinearidade\n",
    "\n",
    "\n",
    "X = X.drop(['sepal_length','petal_length'], axis=1)\n",
    "X"
   ]
  },
  {
   "cell_type": "markdown",
   "id": "3a5215f2",
   "metadata": {},
   "source": [
    "#### 20º - Fazer um novo MQO"
   ]
  },
  {
   "cell_type": "code",
   "execution_count": 22,
   "id": "959b4e43",
   "metadata": {},
   "outputs": [],
   "source": [
    "model = sm.OLS(y,X)\n",
    "results = model.fit()"
   ]
  },
  {
   "cell_type": "markdown",
   "id": "b1b44a98",
   "metadata": {},
   "source": [
    "#### 21º - Teste de hipóteses para verificar se as variáveis são significativas"
   ]
  },
  {
   "cell_type": "code",
   "execution_count": 23,
   "id": "5eee7391",
   "metadata": {},
   "outputs": [
    {
     "data": {
      "text/html": [
       "<table class=\"simpletable\">\n",
       "<caption>OLS Regression Results</caption>\n",
       "<tr>\n",
       "  <th>Dep. Variable:</th>       <td>petal_width</td>   <th>  R-squared:         </th> <td>   0.935</td>\n",
       "</tr>\n",
       "<tr>\n",
       "  <th>Model:</th>                   <td>OLS</td>       <th>  Adj. R-squared:    </th> <td>   0.934</td>\n",
       "</tr>\n",
       "<tr>\n",
       "  <th>Method:</th>             <td>Least Squares</td>  <th>  F-statistic:       </th> <td>   702.7</td>\n",
       "</tr>\n",
       "<tr>\n",
       "  <th>Date:</th>             <td>Thu, 23 Mar 2023</td> <th>  Prob (F-statistic):</th> <td>1.60e-86</td>\n",
       "</tr>\n",
       "<tr>\n",
       "  <th>Time:</th>                 <td>20:50:13</td>     <th>  Log-Likelihood:    </th> <td>  40.511</td>\n",
       "</tr>\n",
       "<tr>\n",
       "  <th>No. Observations:</th>      <td>   150</td>      <th>  AIC:               </th> <td>  -73.02</td>\n",
       "</tr>\n",
       "<tr>\n",
       "  <th>Df Residuals:</th>          <td>   146</td>      <th>  BIC:               </th> <td>  -60.98</td>\n",
       "</tr>\n",
       "<tr>\n",
       "  <th>Df Model:</th>              <td>     3</td>      <th>                     </th>     <td> </td>   \n",
       "</tr>\n",
       "<tr>\n",
       "  <th>Covariance Type:</th>      <td>nonrobust</td>    <th>                     </th>     <td> </td>   \n",
       "</tr>\n",
       "</table>\n",
       "<table class=\"simpletable\">\n",
       "<tr>\n",
       "       <td></td>          <th>coef</th>     <th>std err</th>      <th>t</th>      <th>P>|t|</th>  <th>[0.025</th>    <th>0.975]</th>  \n",
       "</tr>\n",
       "<tr>\n",
       "  <th>const</th>       <td>    2.2748</td> <td>    0.050</td> <td>   45.110</td> <td> 0.000</td> <td>    2.175</td> <td>    2.375</td>\n",
       "</tr>\n",
       "<tr>\n",
       "  <th>sepal_width</th> <td>    1.2381</td> <td>    0.108</td> <td>   11.421</td> <td> 0.000</td> <td>    1.024</td> <td>    1.452</td>\n",
       "</tr>\n",
       "<tr>\n",
       "  <th>setosa</th>      <td>   -1.9083</td> <td>    0.043</td> <td>  -44.174</td> <td> 0.000</td> <td>   -1.994</td> <td>   -1.823</td>\n",
       "</tr>\n",
       "<tr>\n",
       "  <th>versicolor</th>  <td>   -0.6409</td> <td>    0.039</td> <td>  -16.617</td> <td> 0.000</td> <td>   -0.717</td> <td>   -0.565</td>\n",
       "</tr>\n",
       "</table>\n",
       "<table class=\"simpletable\">\n",
       "<tr>\n",
       "  <th>Omnibus:</th>       <td> 1.824</td> <th>  Durbin-Watson:     </th> <td>   2.027</td>\n",
       "</tr>\n",
       "<tr>\n",
       "  <th>Prob(Omnibus):</th> <td> 0.402</td> <th>  Jarque-Bera (JB):  </th> <td>   1.424</td>\n",
       "</tr>\n",
       "<tr>\n",
       "  <th>Skew:</th>          <td> 0.114</td> <th>  Prob(JB):          </th> <td>   0.491</td>\n",
       "</tr>\n",
       "<tr>\n",
       "  <th>Kurtosis:</th>      <td> 3.419</td> <th>  Cond. No.          </th> <td>    9.35</td>\n",
       "</tr>\n",
       "</table><br/><br/>Notes:<br/>[1] Standard Errors assume that the covariance matrix of the errors is correctly specified."
      ],
      "text/plain": [
       "<class 'statsmodels.iolib.summary.Summary'>\n",
       "\"\"\"\n",
       "                            OLS Regression Results                            \n",
       "==============================================================================\n",
       "Dep. Variable:            petal_width   R-squared:                       0.935\n",
       "Model:                            OLS   Adj. R-squared:                  0.934\n",
       "Method:                 Least Squares   F-statistic:                     702.7\n",
       "Date:                Thu, 23 Mar 2023   Prob (F-statistic):           1.60e-86\n",
       "Time:                        20:50:13   Log-Likelihood:                 40.511\n",
       "No. Observations:                 150   AIC:                            -73.02\n",
       "Df Residuals:                     146   BIC:                            -60.98\n",
       "Df Model:                           3                                         \n",
       "Covariance Type:            nonrobust                                         \n",
       "===============================================================================\n",
       "                  coef    std err          t      P>|t|      [0.025      0.975]\n",
       "-------------------------------------------------------------------------------\n",
       "const           2.2748      0.050     45.110      0.000       2.175       2.375\n",
       "sepal_width     1.2381      0.108     11.421      0.000       1.024       1.452\n",
       "setosa         -1.9083      0.043    -44.174      0.000      -1.994      -1.823\n",
       "versicolor     -0.6409      0.039    -16.617      0.000      -0.717      -0.565\n",
       "==============================================================================\n",
       "Omnibus:                        1.824   Durbin-Watson:                   2.027\n",
       "Prob(Omnibus):                  0.402   Jarque-Bera (JB):                1.424\n",
       "Skew:                           0.114   Prob(JB):                        0.491\n",
       "Kurtosis:                       3.419   Cond. No.                         9.35\n",
       "==============================================================================\n",
       "\n",
       "Notes:\n",
       "[1] Standard Errors assume that the covariance matrix of the errors is correctly specified.\n",
       "\"\"\""
      ]
     },
     "execution_count": 23,
     "metadata": {},
     "output_type": "execute_result"
    }
   ],
   "source": [
    "results.summary() # resumo do MQO\n",
    "\n",
    "    # H0: Beta j = 0 => o parâmetro beta é igual a 0 estatisticamente, ou seja, não é significativo\n",
    "    # H1: Beta j ≠ 0 => o parâmetro beta não é igual a 0 estatisticamente, ou seja, é significativo\n",
    "    \n",
    "    # Conclusão do teste de hipóteses: as variáveis são significativas, porque o p-valor não é maior que alfa de 5%"
   ]
  },
  {
   "cell_type": "markdown",
   "id": "c7882af6",
   "metadata": {},
   "source": [
    "#### 22º - Fazer uma matriz de correlação das variáveis"
   ]
  },
  {
   "cell_type": "code",
   "execution_count": 24,
   "id": "5955aa39",
   "metadata": {
    "scrolled": false
   },
   "outputs": [
    {
     "data": {
      "text/plain": [
       "<AxesSubplot:>"
      ]
     },
     "execution_count": 24,
     "metadata": {},
     "output_type": "execute_result"
    },
    {
     "data": {
      "image/png": "[encoded data removed]",
      "text/plain": [
       "<Figure size 300x300 with 2 Axes>"
      ]
     },
     "metadata": {},
     "output_type": "display_data"
    }
   ],
   "source": [
    "    # Remover as variáveis do modelo\n",
    "iris = iris.drop(['sepal_length','petal_length'], axis = 1)\n",
    "\n",
    "    # Fazer a correlação\n",
    "    \n",
    "correl_matrix = iris.corr()\n",
    "\n",
    "    # Criar a figura. Obs.: não é necessário, mas fiz pq queria a figura maior\n",
    "    \n",
    "plt.figure(figsize=(3,3))\n",
    "    \n",
    "    # Criar o heatmap.\n",
    "        # Obs.: annot = informação na célula, fmt = formato do nº, cmap = paleta de cores\n",
    "        \n",
    "sns.heatmap(correl_matrix, annot = True, fmt=\".1f\", cmap = 'bwr')\n",
    "\n",
    "    # Conclusão => as correlações diminuíram"
   ]
  },
  {
   "cell_type": "markdown",
   "id": "e6a5b5b4",
   "metadata": {},
   "source": [
    "#### 23º - Fazer o novo VIF das variáveis explicativas"
   ]
  },
  {
   "cell_type": "code",
   "execution_count": 25,
   "id": "764ff48d",
   "metadata": {},
   "outputs": [
    {
     "data": {
      "text/html": [
       "<div>\n",
       "<style scoped>\n",
       "    .dataframe tbody tr th:only-of-type {\n",
       "        vertical-align: middle;\n",
       "    }\n",
       "\n",
       "    .dataframe tbody tr th {\n",
       "        vertical-align: top;\n",
       "    }\n",
       "\n",
       "    .dataframe thead th {\n",
       "        text-align: right;\n",
       "    }\n",
       "</style>\n",
       "<table border=\"1\" class=\"dataframe\">\n",
       "  <thead>\n",
       "    <tr style=\"text-align: right;\">\n",
       "      <th></th>\n",
       "      <th>VIF</th>\n",
       "      <th>variable</th>\n",
       "    </tr>\n",
       "  </thead>\n",
       "  <tbody>\n",
       "    <tr>\n",
       "      <th>0</th>\n",
       "      <td>10.883459</td>\n",
       "      <td>const</td>\n",
       "    </tr>\n",
       "    <tr>\n",
       "      <th>1</th>\n",
       "      <td>1.712833</td>\n",
       "      <td>sepal_width</td>\n",
       "    </tr>\n",
       "    <tr>\n",
       "      <th>2</th>\n",
       "      <td>1.774867</td>\n",
       "      <td>setosa</td>\n",
       "    </tr>\n",
       "    <tr>\n",
       "      <th>3</th>\n",
       "      <td>1.414881</td>\n",
       "      <td>versicolor</td>\n",
       "    </tr>\n",
       "  </tbody>\n",
       "</table>\n",
       "</div>"
      ],
      "text/plain": [
       "         VIF     variable\n",
       "0  10.883459        const\n",
       "1   1.712833  sepal_width\n",
       "2   1.774867       setosa\n",
       "3   1.414881   versicolor"
      ]
     },
     "execution_count": 25,
     "metadata": {},
     "output_type": "execute_result"
    }
   ],
   "source": [
    "vif = pd.DataFrame()\n",
    "vif['VIF'] = [variance_inflation_factor(X.values, i) for i in range(X.shape[1])]\n",
    "vif['variable'] = X.columns\n",
    "vif\n",
    "\n",
    "    # Conclusão: a multicolinearidade não é significativa, pois o VIF é menor que 10"
   ]
  },
  {
   "cell_type": "markdown",
   "id": "3beb0976",
   "metadata": {},
   "source": [
    "#### 24º - Separar os dados para teste e treino"
   ]
  },
  {
   "cell_type": "code",
   "execution_count": 26,
   "id": "929f9f8b",
   "metadata": {},
   "outputs": [],
   "source": [
    "test_size = 0.33    # 1/3 da amostra será usado para verrificar a precisão do modelo\n",
    "\n",
    "seed = 1    # Controle do shuffling dos dados antes da separação entre teste e treino\n",
    "\n",
    "X_train, X_test, y_train, y_test = train_test_split(X, y, test_size = test_size, random_state = seed)"
   ]
  },
  {
   "cell_type": "markdown",
   "id": "9b5b656a",
   "metadata": {},
   "source": [
    "#### 25º - Regressão linear - Criar e treinar o modelo"
   ]
  },
  {
   "cell_type": "code",
   "execution_count": 27,
   "id": "170a1b1a",
   "metadata": {},
   "outputs": [
    {
     "data": {
      "text/plain": [
       "LinearRegression()"
      ]
     },
     "execution_count": 27,
     "metadata": {},
     "output_type": "execute_result"
    }
   ],
   "source": [
    "    # Criar um modelo com o algoritmo\n",
    "    \n",
    "model = LinearRegression()\n",
    "\n",
    "    # Treinar o modelo, com as respostas corretas\n",
    "\n",
    "model.fit(X_train, y_train)"
   ]
  },
  {
   "cell_type": "markdown",
   "id": "969641bd",
   "metadata": {},
   "source": [
    "#### 26º - Regressão linear - Checar o desempenho do modelo com as informações de treino"
   ]
  },
  {
   "cell_type": "code",
   "execution_count": 28,
   "id": "3d215bd3",
   "metadata": {},
   "outputs": [],
   "source": [
    "    # Descobrindo os valores de y train, através de X train\n",
    "        \n",
    "predictions_train = model.predict(X_train)\n",
    "\n",
    "    # Erro médio absoluto (mean absolute error)\n",
    "    \n",
    "mae_lr_train = mean_absolute_error(y_train, predictions_train)\n",
    "\n",
    "    # R²\n",
    "\n",
    "r2_train = r2_score(y_train, predictions_train)"
   ]
  },
  {
   "cell_type": "markdown",
   "id": "88931217",
   "metadata": {},
   "source": [
    "#### 27º - Regressão linear - Avaliar o modelo com as informações de teste"
   ]
  },
  {
   "cell_type": "code",
   "execution_count": 29,
   "id": "0bacf35f",
   "metadata": {},
   "outputs": [],
   "source": [
    "    # Descobrindo os valores de y test, através dos valores de X test\n",
    "        \n",
    "predictions_test = model.predict(X_test) \n",
    "\n",
    "    # Erro médio absoluto (mean absolute error)\n",
    "    \n",
    "mae_lr_test = mean_absolute_error(y_test, predictions_test)\n",
    "\n",
    "    # R²\n",
    "\n",
    "r2_test = r2_score(y_test, predictions_test)"
   ]
  },
  {
   "cell_type": "markdown",
   "id": "994dbd1a",
   "metadata": {},
   "source": [
    "#### 28º - Conclusões"
   ]
  },
  {
   "cell_type": "code",
   "execution_count": 30,
   "id": "d112d845",
   "metadata": {
    "scrolled": true
   },
   "outputs": [
    {
     "name": "stdout",
     "output_type": "stream",
     "text": [
      "=> Regressão Linear\n",
      "\n",
      "Erro Médio Absoluto do modelo com as informações de treino é 0.1468340072254234.\n",
      "Erro Médio Absoluto do modelo com as informações de teste é 0.12921196572002336.\n",
      "O EMA de teste está perto de 0, logo o modelo tem poucos erros.\n",
      "\n",
      "r² do modelo com as informações de treino é 0.9335082248873363.\n",
      "r² do modelo com as informações de teste é 0.9376134976538161.\n",
      "O r² de teste está perto de 1, logo o modelo explica bem os dados.\n"
     ]
    }
   ],
   "source": [
    "print(f'=> Regressão Linear\\n'\n",
    "      + '\\n'\n",
    "      + f'Erro Médio Absoluto do modelo com as informações de treino é {mae_lr_train}.\\n'\n",
    "      + f'Erro Médio Absoluto do modelo com as informações de teste é {mae_lr_test}.\\n'\n",
    "      + f'O EMA de teste está perto de 0, logo o modelo tem poucos erros.\\n'\n",
    "      + '\\n'\n",
    "      + f'r² do modelo com as informações de treino é {r2_train}.\\n'\n",
    "      + f'r² do modelo com as informações de teste é {r2_test}.\\n'\n",
    "      + f'O r² de teste está perto de 1, logo o modelo explica bem os dados.')"
   ]
  },
  {
   "cell_type": "markdown",
   "id": "b505e5e9",
   "metadata": {},
   "source": [
    "#### 29º - Gráfico"
   ]
  },
  {
   "cell_type": "code",
   "execution_count": 70,
   "id": "64554420",
   "metadata": {},
   "outputs": [
    {
     "data": {
      "image/png": "[encoded data removed]",
      "text/plain": [
       "<Figure size 640x480 with 1 Axes>"
      ]
     },
     "metadata": {},
     "output_type": "display_data"
    }
   ],
   "source": [
    "plt.plot(np.sort(X_test['sepal_width']), np.sort(y_test), color='royalblue', label = 'Actual Y')\n",
    "plt.plot(np.sort(X_test['sepal_width']), np.sort(predictions_test), color='peachpuff', linewidth=3, label ='Predicted Y')\n",
    "plt.ylabel('petal_width')\n",
    "plt.xlabel('sepal_width')\n",
    "plt.legend()\n",
    "plt.show()"
   ]
  }
 ],
 "metadata": {
  "kernelspec": {
   "display_name": "Python 3 (ipykernel)",
   "language": "python",
   "name": "python3"
  },
  "language_info": {
   "codemirror_mode": {
    "name": "ipython",
    "version": 3
   },
   "file_extension": ".py",
   "mimetype": "text/x-python",
   "name": "python",
   "nbconvert_exporter": "python",
   "pygments_lexer": "ipython3",
   "version": "3.9.13"
  }
 },
 "nbformat": 4,
 "nbformat_minor": 5
}
